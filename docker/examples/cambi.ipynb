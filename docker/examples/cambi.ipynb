{
 "cells": [
  {
   "cell_type": "markdown",
   "id": "121298bf-c3f0-49ac-bfcf-38f2c313295f",
   "metadata": {
    "tags": []
   },
   "source": [
    "# CAMBI"
   ]
  },
  {
   "cell_type": "markdown",
   "id": "c87dbc57-9ab1-4fcc-841a-ca70ae459d87",
   "metadata": {
    "tags": []
   },
   "source": [
    "#### Source: https://github.com/Netflix/vmaf"
   ]
  },
  {
   "cell_type": "markdown",
   "id": "9f086952-05a3-456c-bde0-7472b23271f2",
   "metadata": {},
   "source": [
    "CAMBI (Contrast Aware Multiscale Banding Index) is Netflix's detector for banding (aka contouring) artifacts.\n",
    "\n",
    "The CAMBI score starts at 0, meaning no banding is detected. A higher CAMBI score means more visible banding artifacts (worse quality). The maximum CAMBI observed in a sequence is 24 (unwatchable). As a rule of thumb, a CAMBI score around 5 is where banding starts to become slightly annoying (also note that banding is highly dependent on the viewing environment - the brigher the display, and the dimmer the ambient light, the more visible banding is) (Netflix,2021). [See more](https://github.com/Netflix/vmaf/blob/master/resource/doc/cambi.md). \n"
   ]
  },
  {
   "cell_type": "markdown",
   "id": "0151b1bc",
   "metadata": {},
   "source": [
    "### Example:"
   ]
  },
  {
   "cell_type": "markdown",
   "id": "81f359a1-2567-40ad-921c-7a17559d7b2a",
   "metadata": {},
   "source": [
    "In this example the distorted video is a video in 640x360 resolution, encoded with x264 using a CRF value of 40. Reference and distored videos are converted to Y4M."
   ]
  },
  {
   "cell_type": "code",
   "execution_count": null,
   "id": "18cd3c17-6ef4-47ea-9ba8-5950077722b2",
   "metadata": {},
   "outputs": [],
   "source": [
    "!ffmpeg -hide_banner -y -i videos/ref/bbb_1920x1080.mp4 /tmp/ref.y4m\n",
    "!ffmpeg -hide_banner -y -i videos/dist/x264/bbb_640x360_CRF40.mp4 -vf scale=1920x1080 /tmp/dist.y4m"
   ]
  },
  {
   "cell_type": "markdown",
   "id": "9d4317d4",
   "metadata": {},
   "source": [
    "Results are stored in XML format in the file `results/cambi/bbb_cambi.xml`:"
   ]
  },
  {
   "cell_type": "code",
   "execution_count": null,
   "id": "f2d7ebb7-4adb-4d31-aa7b-6c2e049c2ed8",
   "metadata": {},
   "outputs": [],
   "source": [
    "! mkdir -p results/cambi && \\\n",
    "PYTHONPATH=python /vmaf/libvmaf/build/tools/vmaf \\\n",
    "  --reference /tmp/ref.y4m \\\n",
    "  --distorted /tmp/dist.y4m \\\n",
    "  --no_prediction --feature cambi --output results/cambi/bbb_cambi.xml"
   ]
  },
  {
   "cell_type": "markdown",
   "id": "39bfca1d-41b4-4409-b352-c69363fd28f1",
   "metadata": {},
   "source": [
    "#### Graphical representation."
   ]
  },
  {
   "cell_type": "code",
   "execution_count": null,
   "id": "59c6ea16-7603-42f8-8b9c-c70248a6983f",
   "metadata": {},
   "outputs": [],
   "source": [
    "import pandas as pd\n",
    "import json\n",
    "import plotly.express as px\n",
    "import xmltodict\n",
    "\n",
    "# File with the metric data (adapt to your needs)\n",
    "path_file='results/cambi/bbb_cambi.xml'\n",
    "\n",
    "json_object = json.dumps(path_file) \n",
    "\n",
    "with open(path_file) as xml_file:\n",
    "    data_dict = xmltodict.parse(xml_file.read())\n",
    "\n",
    "str_data=json.dumps(data_dict)\n",
    "data=json.loads(str_data)\n",
    "\n",
    "cambi_frames=[]\n",
    "for frame in data['VMAF']['frames']['frame']:\n",
    "    cambi_frames.append(float(frame['@cambi']))\n",
    "\n",
    "df=pd.DataFrame(cambi_frames, columns=['CAMBI'])\n",
    "\n",
    "fig = px.line(df,x=df.index, y='CAMBI',\n",
    "              title='CAMBI by frame',labels={\"index\": \"Frame\"}, template='simple_white',markers=True)\n",
    "\n",
    "fig.add_hline(y=df.CAMBI.mean(), line_width=2, line_dash='dash')\n",
    "\n",
    "fig.update_layout(\n",
    "    title={\n",
    "        'y':0.9,\n",
    "        'x':0.5,\n",
    "        'xanchor': 'center'},\n",
    "    showlegend=True)\n",
    "\n",
    "fig.show()"
   ]
  },
  {
   "cell_type": "code",
   "execution_count": null,
   "id": "1c675dc0-3589-4c1b-81d2-7f5fd533495f",
   "metadata": {},
   "outputs": [],
   "source": []
  }
 ],
 "metadata": {
  "kernelspec": {
   "display_name": "Python 3 (ipykernel)",
   "language": "python",
   "name": "python3"
  },
  "language_info": {
   "codemirror_mode": {
    "name": "ipython",
    "version": 3
   },
   "file_extension": ".py",
   "mimetype": "text/x-python",
   "name": "python",
   "nbconvert_exporter": "python",
   "pygments_lexer": "ipython3",
   "version": "3.9.7"
  },
  "toc-autonumbering": false,
  "toc-showcode": false,
  "toc-showmarkdowntxt": true,
  "toc-showtags": true,
  "vscode": {
   "interpreter": {
    "hash": "31f2aee4e71d21fbe5cf8b01ff0e069b9275f58929596ceb00d14d90e3e16cd6"
   }
  }
 },
 "nbformat": 4,
 "nbformat_minor": 5
}
