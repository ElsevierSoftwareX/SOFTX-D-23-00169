{
 "cells": [
  {
   "cell_type": "markdown",
   "id": "0ad5184c-3882-4c5f-8b35-23c30ec48f51",
   "metadata": {},
   "source": [
    "# NIQE - Naturalness Image Quality Evaluator"
   ]
  },
  {
   "cell_type": "markdown",
   "id": "772cddc9-88e6-42e4-a6f7-3bf37dfbb86f",
   "metadata": {},
   "source": [
    "#### Source: http://www.scikit-video.org/stable/measure.html"
   ]
  },
  {
   "cell_type": "markdown",
   "id": "203cc36b-1b80-49c2-b0f9-262c7ccad36b",
   "metadata": {},
   "source": [
    "This is a no-reference metric. Input a video of any quality and get back its distance frame-by-frame from naturalness, see [1](https://ieeexplore.ieee.org/document/6353522).\n",
    "\n",
    " - [1] Mittal, Anish, Rajiv Soundararajan, and Alan C. Bovik. “Making a ‘completely blind’ image quality analyzer.” IEEE Signal Processing Letters 20.3 (2013): 209-212."
   ]
  },
  {
   "cell_type": "markdown",
   "id": "1a4d3921-242f-42d0-bb50-da7b2d5734fe",
   "metadata": {
    "tags": []
   },
   "source": [
    "## Example:"
   ]
  },
  {
   "cell_type": "markdown",
   "id": "8f960406-e3a7-474e-887b-e4cfe21e105f",
   "metadata": {},
   "source": [
    "The following code computes the frame-by-frame distance of the naturalness of a video. "
   ]
  },
  {
   "cell_type": "markdown",
   "id": "02f6ae0f",
   "metadata": {},
   "source": [
    "<div class=\"alert alert-block alert-info\">\n",
    "    <b>Important:</b> To run this code, switch to the <b><i>Scikit-Video</i></b> kernel. Button in the upper right corner.</div>"
   ]
  },
  {
   "cell_type": "code",
   "execution_count": null,
   "id": "ff9e33b0-49f6-4bf5-8b7c-52f261bbd396",
   "metadata": {},
   "outputs": [],
   "source": [
    "import skvideo.io\n",
    "import skvideo.datasets\n",
    "import skvideo.utils\n",
    "import numpy as np\n",
    "import skvideo.measure\n",
    "import pandas as pd\n",
    "import os\n",
    "\n",
    "dir='results/niqe'\n",
    "if not os.path.exists(dir):\n",
    "    os.makedirs(dir)\n",
    "\n",
    "# Distorted video (adapt to your needs)\n",
    "path_video=\"videos/dist/vp9/bbb_1920x1080_CRF30.webm\"\n",
    "\n",
    "vid = skvideo.io.vread(path_video, outputdict={\"-pix_fmt\": \"gray\"})[:, :, :, 0]\n",
    "vid = skvideo.utils.vshape(vid)\n",
    "print 'Running, wait until score is obtained'",
    "niqe_frames=skvideo.measure.niqe(vid)\n",
    "\n",
    "df=pd.DataFrame(niqe_frames, columns=['NIQE'])\n",
    "\n",
    "#Save information in .json\n",
    "df.to_json('results/niqe/niqe.json', index=True)",
    "niqe_average=df.NIQE.mean()",
    "print 'NIQE average score: {0}'.format(niqe_average)"
   ]
  },
  {
   "cell_type": "markdown",
   "id": "eff35feb-dfee-43ba-a5a7-14e4cd5e63b0",
   "metadata": {},
   "source": [
    "## Graphical representation."
   ]
  },
  {
   "cell_type": "markdown",
   "id": "b94234fd-441c-4e07-a68b-55fa27921bb1",
   "metadata": {},
   "source": [
    "<div class=\"alert alert-block alert-warning\">\n",
    "<b>Warning:</b> To show the graphical representation, switch to the <b><i>Python 3</i></b> kernel. Button in the upper right corner.\n",
    "</div>"
   ]
  },
  {
   "cell_type": "code",
   "execution_count": null,
   "id": "af659439-f619-4efb-886d-c8e038083f9a",
   "metadata": {},
   "outputs": [],
   "source": [
    "import pandas as pd \n",
    "import re\n",
    "import plotly.graph_objects as go\n",
    "import json\n",
    "\n",
    "# File with nique metric (adapt to your needs)\n",
    "path_file='results/niqe/niqe.json'\n",
    "\n",
    "df=pd.read_json(path_file)\n",
    "df=df.sort_index()\n",
    "\n",
    "fig = go.Figure()\n",
    "\n",
    "fig.add_trace(go.Scatter(x=df.index, y=df.NIQE,\n",
    "                    mode='lines+markers',\n",
    "                    name='NIQE',\n",
    "                         line=dict(color='#3E4680'))) \n",
    "\n",
    "fig.add_hline(y=df.NIQE.mean(), line_width=2, line_dash='dash')\n",
    "\n",
    "fig.update_layout(\n",
    "    title={'text':'NIQE by frame',\n",
    "        'y':0.9,\n",
    "        'x':0.5,\n",
    "        'xanchor': 'center'},\n",
    "    showlegend=True,\n",
    "    template='simple_white',\n",
    "    xaxis_title='Frame', \n",
    "    yaxis_title='NIQE')\n",
    "\n",
    "fig.show()"
   ]
  },
  {
   "cell_type": "code",
   "execution_count": null,
   "id": "c48bc8b5-224e-47e0-b230-84f83299fd40",
   "metadata": {},
   "outputs": [],
   "source": []
  }
 ],
 "metadata": {
  "kernelspec": {
   "display_name": "Python 3 (ipykernel)",
   "language": "python",
   "name": "python3"
  },
  "language_info": {
   "codemirror_mode": {
    "name": "ipython",
    "version": 3
   },
   "file_extension": ".py",
   "mimetype": "text/x-python",
   "name": "python",
   "nbconvert_exporter": "python",
   "pygments_lexer": "ipython3",
   "version": "3.9.7"
  },
  "vscode": {
   "interpreter": {
    "hash": "31f2aee4e71d21fbe5cf8b01ff0e069b9275f58929596ceb00d14d90e3e16cd6"
   }
  }
 },
 "nbformat": 4,
 "nbformat_minor": 5
}
