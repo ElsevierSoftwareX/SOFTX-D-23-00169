{
 "cells": [
  {
   "cell_type": "markdown",
   "id": "30a66006-a071-4d30-b630-69c04d84e279",
   "metadata": {},
   "source": [
    "These cells allow to play each included video in the container image."
   ]
  },
  {
   "cell_type": "markdown",
   "id": "9c602708-34a7-4b96-92ba-fe2354341828",
   "metadata": {},
   "source": [
    "# Reference video"
   ]
  },
  {
   "cell_type": "code",
   "execution_count": null,
   "id": "3607eb5d-ee22-4078-8e8d-0fba59efedeb",
   "metadata": {},
   "outputs": [],
   "source": [
    "from IPython.display import Video\n",
    "Video(\"videos/ref/bbb_1920x1080.mp4\")"
   ]
  },
  {
   "cell_type": "markdown",
   "id": "e3086130-1316-4c22-a657-454a1397866c",
   "metadata": {},
   "source": [
    "# Distorted videos"
   ]
  },
  {
   "cell_type": "markdown",
   "id": "62cc2e8f-1ed2-4fee-a7ff-c84bc37f82cf",
   "metadata": {},
   "source": [
    "## Distorted videos encoded with VP9"
   ]
  },
  {
   "cell_type": "code",
   "execution_count": null,
   "id": "bf406429-a2f1-40d6-be88-1f3aabb1ae57",
   "metadata": {},
   "outputs": [],
   "source": [
    "from IPython.display import Video\n",
    "Video(\"videos/dist/vp9/bbb_640x360_CRF30.webm\")"
   ]
  },
  {
   "cell_type": "code",
   "execution_count": null,
   "id": "58ddd0c2-1462-4e09-9b6e-193d5c956119",
   "metadata": {},
   "outputs": [],
   "source": [
    "from IPython.display import Video\n",
    "Video(\"videos/dist/vp9/bbb_640x360_CRF50.webm\")"
   ]
  },
  {
   "cell_type": "code",
   "execution_count": null,
   "id": "2b86793a-1a04-4743-96dc-17e43202ffe1",
   "metadata": {},
   "outputs": [],
   "source": [
    "from IPython.display import Video\n",
    "Video(\"videos/dist/vp9/bbb_1920x1080_CRF30.webm\")"
   ]
  },
  {
   "cell_type": "code",
   "execution_count": null,
   "id": "1b99a3a4-c923-4d21-9f59-9e74bd7160de",
   "metadata": {},
   "outputs": [],
   "source": [
    "from IPython.display import Video\n",
    "Video(\"videos/dist/vp9/bbb_1920x1080_CRF50.webm\")"
   ]
  },
  {
   "cell_type": "markdown",
   "id": "4ef18ef3-feb9-4267-971e-aed0192f6190",
   "metadata": {},
   "source": [
    "## Distorted videos encoded with x264"
   ]
  },
  {
   "cell_type": "code",
   "execution_count": null,
   "id": "f0fc0c43-f915-440a-8cd5-0c8c764a1778",
   "metadata": {},
   "outputs": [],
   "source": [
    "from IPython.display import Video\n",
    "Video(\"videos/dist/x264/bbb_640x360_CRF23.mp4\")"
   ]
  },
  {
   "cell_type": "code",
   "execution_count": null,
   "id": "6fd22e4f-fe6b-4396-a2c6-c621e53681f2",
   "metadata": {},
   "outputs": [],
   "source": [
    "from IPython.display import Video\n",
    "Video(\"videos/dist/x264/bbb_640x360_CRF40.mp4\")"
   ]
  },
  {
   "cell_type": "code",
   "execution_count": null,
   "id": "3539cb8a-da68-4eee-abf5-743fe272c8d7",
   "metadata": {},
   "outputs": [],
   "source": [
    "from IPython.display import Video\n",
    "Video(\"videos/dist/x264/bbb_1920x1080_CRF23.mp4\")"
   ]
  },
  {
   "cell_type": "code",
   "execution_count": null,
   "id": "25ee37b3-28fa-4184-af98-fb7fedbcbb60",
   "metadata": {},
   "outputs": [],
   "source": [
    "from IPython.display import Video\n",
    "Video(\"videos/dist/x264/bbb_1920x1080_CRF40.mp4\")"
   ]
  },
  {
   "cell_type": "code",
   "execution_count": null,
   "id": "13c76f16-6129-49e1-96d8-77d7b9e6b2b9",
   "metadata": {},
   "outputs": [],
   "source": []
  }
 ],
 "metadata": {
  "kernelspec": {
   "display_name": "Python 3 (ipykernel)",
   "language": "python",
   "name": "python3"
  },
  "language_info": {
   "codemirror_mode": {
    "name": "ipython",
    "version": 3
   },
   "file_extension": ".py",
   "mimetype": "text/x-python",
   "name": "python",
   "nbconvert_exporter": "python",
   "pygments_lexer": "ipython3",
   "version": "3.9.7"
  }
 },
 "nbformat": 4,
 "nbformat_minor": 5
}
