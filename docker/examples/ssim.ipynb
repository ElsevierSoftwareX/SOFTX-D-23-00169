{
 "cells": [
  {
   "cell_type": "markdown",
   "id": "0ad5184c-3882-4c5f-8b35-23c30ec48f51",
   "metadata": {},
   "source": [
    "# SSIM - Structural Similarity Index Metric "
   ]
  },
  {
   "cell_type": "markdown",
   "id": "772cddc9-88e6-42e4-a6f7-3bf37dfbb86f",
   "metadata": {},
   "source": [
    "#### Source: https://ffmpeg.org/ffmpeg-filters.html#ssim"
   ]
  },
  {
   "cell_type": "markdown",
   "id": "203cc36b-1b80-49c2-b0f9-262c7ccad36b",
   "metadata": {},
   "source": [
    "See [1](https://ieeexplore.ieee.org/document/4775883) and [2](https://ieeexplore.ieee.org/document/1284395).\n",
    "\n",
    "\n",
    " - [1] Zhou Wang; Bovik, A.C., \"Mean squared error: Love it or leave it? A new look at Signal Fidelity Measures\", Signal Processing Magazine, IEEE, vol. 26, no. 1, pp. 98-117, Jan. 2009.\n",
    "\n",
    " - [2] Z. Wang, A. C. Bovik, H. R. Sheikh and E. P. Simoncelli, \"Image quality assessment: From error visibility to structural similarity\", IEEE Transactions on Image Processing, vol. 13, no. 4, pp. 600-612, Apr. 2004."
   ]
  },
  {
   "cell_type": "markdown",
   "id": "1a4d3921-242f-42d0-bb50-da7b2d5734fe",
   "metadata": {},
   "source": [
    "## Example:"
   ]
  },
  {
   "cell_type": "markdown",
   "id": "e6a8df85-6423-4fde-8da5-6db603c0e373",
   "metadata": {},
   "source": [
    "This ffmpeg filter takes in input two input videos, the first input is the distorted and the second input is used as a \"reference\" video for computing the PSNR.\n",
    "As the distorted video has a different resolution, the first step is to upscale:"
   ]
  },
  {
   "cell_type": "code",
   "execution_count": null,
   "id": "37fa5d39-fa8b-4433-860e-ba757b22461e",
   "metadata": {},
   "outputs": [],
   "source": [
    "!ffmpeg -hide_banner -y -r 25 -i videos/dist/x264/bbb_640x360_CRF40.mp4 -vf scale=1920x1080 -c:v libx264 -crf 0 /tmp/dist.mp4"
   ]
  },
  {
   "cell_type": "markdown",
   "id": "79c14d08-6995-4ee0-9a0c-36522d786490",
   "metadata": {},
   "source": [
    "Both videos must have the same resolution and pixel format for this filter to work correctly. Also it assumes that both inputs have the same number of frames, which are compared one by one. The filter computes the SSIM of each frame."
   ]
  },
  {
   "cell_type": "code",
   "execution_count": null,
   "id": "6b9d1f08-f7c3-47be-b628-43a75e998bc2",
   "metadata": {},
   "outputs": [],
   "source": [
    "! mkdir -p results/ssim && \\\n",
    "ffmpeg -hide_banner -r 25 -i /tmp/dist.mp4 -r 25 -i videos/ref/bbb_1920x1080.mp4 -lavfi \\\n",
    "    \"[0:v]settb=AVTB,setpts=PTS-STARTPTS[distorted];\\\n",
    "     [1:v]settb=AVTB,setpts=PTS-STARTPTS[reference];\\\n",
    "     [distorted][reference]ssim=f=results/ssim/bbb_ssim.txt\" -f null -"
   ]
  },
  {
   "cell_type": "markdown",
   "id": "34416096",
   "metadata": {},
   "source": [
    "### Graphical representation."
   ]
  },
  {
   "cell_type": "code",
   "execution_count": null,
   "id": "ff9e33b0-49f6-4bf5-8b7c-52f261bbd396",
   "metadata": {},
   "outputs": [],
   "source": [
    "import pandas as pd \n",
    "import re\n",
    "import plotly.express as px\n",
    "\n",
    "# This is the file with the computed SSIM (adapt to your needs)\n",
    "file='results/ssim/bbb_ssim.txt'\n",
    "\n",
    "path_file = open(file, 'r')\n",
    "\n",
    "lines = path_file.readlines()\n",
    "\n",
    "ssim_frames=[]\n",
    "\n",
    "for line in lines:\n",
    "    float_frame=re.sub(\"[ :]\", \",\", line)\n",
    "    lts_frame=float_frame.split(',')\n",
    "    ssim_frames.append([float(lts_frame[3]),float(lts_frame[5]),\n",
    "                        float(lts_frame[7]),float(lts_frame[9])])\n",
    "\n",
    "df=pd.DataFrame(ssim_frames, columns=['Y','U','V','SSIM'])\n",
    "\n",
    "fig = px.line(df,x=df.index, y='SSIM',\n",
    "              title='SSIM by frame',\n",
    "              labels={\"index\": \"Frame\"}, \n",
    "              template='simple_white',\n",
    "              markers=True)\n",
    "\n",
    "fig.add_hline(y=df.SSIM.mean(), line_width=2, line_dash='dash')\n",
    "\n",
    "fig.update_layout(\n",
    "    title={\n",
    "        'y':0.9,\n",
    "        'x':0.5,\n",
    "        'xanchor': 'center'},\n",
    "    showlegend=True)\n",
    "\n",
    "fig.show()"
   ]
  },
  {
   "cell_type": "markdown",
   "id": "42dae7ff",
   "metadata": {},
   "source": [
    "This second plot shows the SSIM and the SSIM per component (Y, U, V)"
   ]
  },
  {
   "cell_type": "code",
   "execution_count": null,
   "id": "dab94f71-8079-4d79-b034-db00791862b8",
   "metadata": {
    "tags": []
   },
   "outputs": [],
   "source": [
    "import pandas as pd \n",
    "import re\n",
    "import plotly.graph_objects as go\n",
    "\n",
    "\n",
    "# This is the file with the computed SSIM (adapt to your needs)\n",
    "file='results/ssim/bbb_ssim.txt'\n",
    "\n",
    "path_file = open(file, 'r')\n",
    "lines = path_file.readlines()\n",
    "\n",
    "ssim_frames=[]\n",
    "\n",
    "for line in lines:\n",
    "    float_frame=re.sub(\"[ :]\", \",\", line)\n",
    "    lts_frame=float_frame.split(',')\n",
    "    ssim_frames.append([float(lts_frame[3]),float(lts_frame[5]),\n",
    "                        float(lts_frame[7]),float(lts_frame[9])])\n",
    "\n",
    "df=pd.DataFrame(ssim_frames, columns=['Y','U','V','SSIM'])\n",
    "\n",
    "fig = go.Figure()\n",
    "\n",
    "fig.add_trace(go.Scatter(x=df.index, y=df.SSIM,\n",
    "                    mode='lines+markers',\n",
    "                    name='SSIM',\n",
    "                         line=dict(color='#3E4680')))\n",
    "fig.add_trace(go.Scatter(x=df.index, y=df.Y,\n",
    "                    mode='lines+markers',\n",
    "                    name='Y',\n",
    "                         line=dict(color='#FFD0A1')))\n",
    "fig.add_trace(go.Scatter(x=df.index, y=df.U,\n",
    "                    mode='lines+markers',\n",
    "                    name='U',\n",
    "                          line=dict(color='#C56E90')))\n",
    "fig.add_trace(go.Scatter(x=df.index, y=df.V,\n",
    "                    mode='lines+markers',\n",
    "                    name='V',\n",
    "                          line=dict(color='#80BFA0')))\n",
    "\n",
    "fig.update_layout(\n",
    "    title={'text':'<b>SSIM by frame</b>',\n",
    "        'y':0.9,\n",
    "        'x':0.5,\n",
    "        'xanchor': 'center'},\n",
    "    showlegend=True,\n",
    "    template='simple_white',\n",
    "    xaxis_title='Frame',yaxis_title='SSIM')\n",
    "\n",
    "fig.show()"
   ]
  },
  {
   "cell_type": "code",
   "execution_count": null,
   "id": "bdb7030c-9218-4fdb-88a7-e0cfbe19dde2",
   "metadata": {},
   "outputs": [],
   "source": []
  }
 ],
 "metadata": {
  "kernelspec": {
   "display_name": "Python 3 (ipykernel)",
   "language": "python",
   "name": "python3"
  },
  "language_info": {
   "codemirror_mode": {
    "name": "ipython",
    "version": 3
   },
   "file_extension": ".py",
   "mimetype": "text/x-python",
   "name": "python",
   "nbconvert_exporter": "python",
   "pygments_lexer": "ipython3",
   "version": "3.9.7"
  },
  "vscode": {
   "interpreter": {
    "hash": "31f2aee4e71d21fbe5cf8b01ff0e069b9275f58929596ceb00d14d90e3e16cd6"
   }
  }
 },
 "nbformat": 4,
 "nbformat_minor": 5
}
