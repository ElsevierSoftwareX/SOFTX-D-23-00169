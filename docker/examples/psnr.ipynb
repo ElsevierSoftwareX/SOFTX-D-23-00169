{
 "cells": [
  {
   "cell_type": "markdown",
   "id": "0ad5184c-3882-4c5f-8b35-23c30ec48f51",
   "metadata": {},
   "source": [
    "# Peak Signal-to-Noise Ratio (PSNR) "
   ]
  },
  {
   "cell_type": "markdown",
   "id": "772cddc9-88e6-42e4-a6f7-3bf37dfbb86f",
   "metadata": {},
   "source": [
    "#### Source: https://ffmpeg.org/ffmpeg-all.html#psnr"
   ]
  },
  {
   "cell_type": "markdown",
   "id": "203cc36b-1b80-49c2-b0f9-262c7ccad36b",
   "metadata": {},
   "source": [
    "Peak signal-to-noise ratio (PSNR) is the ratio between the maximum possible power of a signal and the power of corrupting noise that affects the fidelity of its representation. Because many signals have a very wide dynamic range, PSNR is usually expressed as a logarithmic quantity using the decibel scale [1](https://en.wikipedia.org/wiki/Peak_signal-to-noise_ratio).\n",
    "\n",
    " - [1] http://en.wikipedia.org/wiki/Hausdorff_distance "
   ]
  },
  {
   "cell_type": "markdown",
   "id": "1a4d3921-242f-42d0-bb50-da7b2d5734fe",
   "metadata": {},
   "source": [
    "## Example:"
   ]
  },
  {
   "cell_type": "markdown",
   "id": "8da5e0ed-e341-408a-9262-ccc20bb77275",
   "metadata": {},
   "source": [
    "This ffmpeg filter takes in input two input videos, the first input is the distorted and the second input is used as a \"reference\" video for computing the PSNR.\n",
    "As the distorted video has a different resolution, the first step is to upscale:"
   ]
  },
  {
   "cell_type": "code",
   "execution_count": null,
   "id": "232aa33b-7cf0-4e44-a87a-b945e2048eff",
   "metadata": {},
   "outputs": [],
   "source": [
    "!ffmpeg -hide_banner -y -r 25 -i videos/dist/x264/bbb_640x360_CRF40.mp4 -vf scale=1920x1080 -c:v libx264 -crf 0 /tmp/dist.mp4"
   ]
  },
  {
   "cell_type": "markdown",
   "id": "22e9a8a4-74ea-4209-8d02-b4e676abc519",
   "metadata": {},
   "source": [
    "Also it assumes that both inputs have the same number of frames, which are compared one by one (Ffmpeg, 2021). Then the PSNR can be computed with the following command:"
   ]
  },
  {
   "cell_type": "code",
   "execution_count": null,
   "id": "6b9d1f08-f7c3-47be-b628-43a75e998bc2",
   "metadata": {},
   "outputs": [],
   "source": [
    "!mkdir -p results/psnr && \\\n",
    "ffmpeg -hide_banner -r 25 -i /tmp/dist.mp4 -r 25 -i videos/ref/bbb_1920x1080.mp4 -lavfi \\\n",
    "    \"[0:v]settb=AVTB,setpts=PTS-STARTPTS[distorted];\\\n",
    "     [1:v]settb=AVTB,setpts=PTS-STARTPTS[reference];\\\n",
    "     [distorted][reference]psnr=f=results/psnr/bbb_psnr.txt\" -f null -"
   ]
  },
  {
   "cell_type": "markdown",
   "id": "8c4cbd49",
   "metadata": {},
   "source": [
    "## Graphical representation."
   ]
  },
  {
   "cell_type": "code",
   "execution_count": null,
   "id": "ff9e33b0-49f6-4bf5-8b7c-52f261bbd396",
   "metadata": {},
   "outputs": [],
   "source": [
    "import pandas as pd \n",
    "import re\n",
    "import plotly.express as px\n",
    "\n",
    "# File with the PSNR results (adapt to your needs)\n",
    "file='results/psnr/bbb_psnr.txt'\n",
    "\n",
    "path_file = open(file, 'r')\n",
    "lines = path_file.readlines()\n",
    "\n",
    "psnr_frames=[]\n",
    "\n",
    "for line in lines:\n",
    "    float_frame=re.sub(\"[ :]\", \",\", line)\n",
    "    lts_frame=float_frame.split(',')\n",
    "    psnr_frames.append([float(lts_frame[11]),float(lts_frame[13]),\n",
    "                        float(lts_frame[15]),float(lts_frame[17])])\n",
    "    \n",
    "df=pd.DataFrame(psnr_frames, columns=['PSNR','Y','U','V'])\n",
    "\n",
    "fig = px.line(df,x=df.index, y='PSNR',\n",
    "              title='PSNR by frame',\n",
    "              labels={\"index\": \"Frame\"}, \n",
    "              template='simple_white',\n",
    "              markers=True)\n",
    "\n",
    "fig.add_hline(y=df.PSNR.mean(), line_width=2, line_dash='dash')\n",
    "\n",
    "fig.update_layout(\n",
    "    title={\n",
    "        'y':0.9,\n",
    "        'x':0.5,\n",
    "        'xanchor': 'center'},\n",
    "    showlegend=True)\n",
    "\n",
    "fig.show()\n",
    "   "
   ]
  },
  {
   "cell_type": "markdown",
   "id": "f99279eb",
   "metadata": {},
   "source": [
    "This second plot shows the PSNR and the PSN per component (Y, U, V)"
   ]
  },
  {
   "cell_type": "code",
   "execution_count": null,
   "id": "dab94f71-8079-4d79-b034-db00791862b8",
   "metadata": {
    "tags": []
   },
   "outputs": [],
   "source": [
    "import pandas as pd \n",
    "import re\n",
    "import plotly.graph_objects as go\n",
    "\n",
    "# File with the PSNR results (adapt to your needs)\n",
    "file='results/psnr/bbb_psnr.txt'\n",
    "\n",
    "path_file = open(file, 'r')\n",
    "lines = path_file.readlines()\n",
    "\n",
    "psnr_frames=[]\n",
    "\n",
    "for line in lines:\n",
    "    float_frame=re.sub(\"[ :]\", \",\", line)\n",
    "    lts_frame=float_frame.split(',')\n",
    "    psnr_frames.append([float(lts_frame[11]),float(lts_frame[13]),\n",
    "                        float(lts_frame[15]),float(lts_frame[17])])\n",
    "    \n",
    "df=pd.DataFrame(psnr_frames, columns=['PSNR','Y','U','V'])\n",
    "\n",
    "fig = go.Figure()\n",
    "\n",
    "fig.add_trace(go.Scatter(x=df.index, y=df.PSNR,\n",
    "                    mode='lines+markers',\n",
    "                    name='PSNR',\n",
    "                         line=dict(color='#3E4680')))\n",
    "fig.add_trace(go.Scatter(x=df.index, y=df.Y,\n",
    "                    mode='lines+markers',\n",
    "                    name='Y',\n",
    "                         line=dict(color='#FFD0A1')))\n",
    "fig.add_trace(go.Scatter(x=df.index, y=df.U,\n",
    "                    mode='lines+markers',\n",
    "                    name='U',\n",
    "                          line=dict(color='#C56E90')))\n",
    "fig.add_trace(go.Scatter(x=df.index, y=df.V,\n",
    "                    mode='lines+markers',\n",
    "                    name='V',\n",
    "                          line=dict(color='#80BFA0')))\n",
    "\n",
    "fig.update_layout(\n",
    "    title={'text':'<b>PSNR by frame</b>',\n",
    "        'y':0.9,\n",
    "        'x':0.5,\n",
    "        'xanchor': 'center'},\n",
    "    showlegend=True,\n",
    "    template='simple_white',\n",
    "    xaxis_title='Frame',yaxis_title='PSNR')\n",
    "\n",
    "fig.show()"
   ]
  },
  {
   "cell_type": "code",
   "execution_count": null,
   "id": "cc9a70df-c985-47af-970a-a414caed8b8d",
   "metadata": {},
   "outputs": [],
   "source": []
  }
 ],
 "metadata": {
  "kernelspec": {
   "display_name": "Python 3 (ipykernel)",
   "language": "python",
   "name": "python3"
  },
  "language_info": {
   "codemirror_mode": {
    "name": "ipython",
    "version": 3
   },
   "file_extension": ".py",
   "mimetype": "text/x-python",
   "name": "python",
   "nbconvert_exporter": "python",
   "pygments_lexer": "ipython3",
   "version": "3.9.7"
  },
  "vscode": {
   "interpreter": {
    "hash": "31f2aee4e71d21fbe5cf8b01ff0e069b9275f58929596ceb00d14d90e3e16cd6"
   }
  }
 },
 "nbformat": 4,
 "nbformat_minor": 5
}
