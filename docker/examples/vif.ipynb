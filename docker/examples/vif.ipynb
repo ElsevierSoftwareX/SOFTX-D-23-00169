{
 "cells": [
  {
   "cell_type": "markdown",
   "id": "121298bf-c3f0-49ac-bfcf-38f2c313295f",
   "metadata": {
    "tags": []
   },
   "source": [
    "# VIF - Visual Information Fidelity"
   ]
  },
  {
   "cell_type": "markdown",
   "id": "c87dbc57-9ab1-4fcc-841a-ca70ae459d87",
   "metadata": {
    "tags": []
   },
   "source": [
    "VIF is a well-adopted image quality metric based on the premise that quality is complementary to the measure of information fidelity loss. In its original form, the VIF score is measured as a loss of fidelity combining four scales. In VMAF, we adopt a modified version of VIF where the loss of fidelity in each scale is included as an elementary metric. See [1](https://ieeexplore.ieee.org/abstract/document/1576816).\n",
    "\n",
    " - [1] H. Sheikh and A. Bovik, “Image Information and Visual Quality,” IEEE Transactions on Image Processing, vol. 15, no. 2, pp. 430–444, Feb. 2006."
   ]
  },
  {
   "cell_type": "markdown",
   "id": "5b82b969-d3c6-446a-8ce3-4d23c87ddb58",
   "metadata": {
    "tags": []
   },
   "source": [
    "## Example using ffmpeg"
   ]
  },
  {
   "cell_type": "markdown",
   "id": "60de59a2-40f3-42a4-b30b-3377ae29c44e",
   "metadata": {},
   "source": [
    "libvmaf is integrated into FFmpeg, to create complex filters to calculate VIF. This is an example where the distorted video is upscaled to the resolution of the reference video (360p to 1080p). The 'bicubic' interpolation method is used, see more on [FFmpeg](https://www.ffmpeg.org/ffmpeg-scaler.html). "
   ]
  },
  {
   "cell_type": "code",
   "execution_count": null,
   "id": "2395cafd-77bf-426c-9e8f-be6c2062eaf2",
   "metadata": {},
   "outputs": [],
   "source": [
    "!mkdir -p results/vif  "
   ]
  },
  {
   "cell_type": "code",
   "execution_count": null,
   "id": "4991f5cd-058a-4371-9c15-b522f8aebe36",
   "metadata": {
    "tags": []
   },
   "outputs": [],
   "source": [
    "! mkdir -p results/vif && \\\n",
    "ffmpeg -r 25 -i videos/dist/vp9/bbb_640x360_CRF30.webm \\\n",
    "       -r 25 -i videos/ref/bbb_1920x1080.mp4 \\\n",
    "       -lavfi \"[0:v]scale=1920:1080:flags=bicubic,setpts=PTS-STARTPTS[distorted]; \\\n",
    "            [1:v]setpts=PTS-STARTPTS[reference]; \\\n",
    "            [distorted][reference]libvmaf=log_fmt=json:log_path=results/vif/bbb_vif_scaled.json:model='path=/vmaf/model/vmaf_float_v0.6.1.json'\" -f null -   "
   ]
  },
  {
   "cell_type": "markdown",
   "id": "7bc44cc7-c9dc-4349-86fa-d9b1b7bc84fe",
   "metadata": {
    "tags": []
   },
   "source": [
    "## Graphical representation."
   ]
  },
  {
   "cell_type": "markdown",
   "id": "b766405c-a7b9-4bad-8f84-0eb355395fbc",
   "metadata": {},
   "source": [
    "In this section, we plot the VIF values obtained per frame of the result obtained in Example 1. The arithmetic mean of the obtained values is also shown. "
   ]
  },
  {
   "cell_type": "code",
   "execution_count": null,
   "id": "287d36a4-8c35-4298-89de-560c86c54bc3",
   "metadata": {},
   "outputs": [],
   "source": [
    "import pandas as pd\n",
    "import json\n",
    "import plotly.express as px\n",
    "\n",
    "path_file='results/vif/bbb_vif_scaled.json'\n",
    "\n",
    "with open(path_file) as f:\n",
    "  data = json.load(f)\n",
    "\n",
    "msssim_frames=[]\n",
    "\n",
    "for frame in data['frames']:\n",
    "    msssim_frames.append(frame['metrics']['vif_scale3'])\n",
    "        \n",
    "df=pd.DataFrame(msssim_frames, columns=['VIF'])\n",
    "\n",
    "fig = px.line(df,x=df.index, y='VIF',\n",
    "              title='VIF by frame',labels={\"index\": \"Frame\"}, template='simple_white', markers=True)\n",
    "\n",
    "\n",
    "fig.update_layout(\n",
    "    title={\n",
    "        'y':0.9,\n",
    "        'x':0.5,\n",
    "        'xanchor': 'center'},\n",
    "    showlegend=True)\n",
    "\n",
    "fig.show()"
   ]
  }
 ],
 "metadata": {
  "kernelspec": {
   "display_name": "Python 3 (ipykernel)",
   "language": "python",
   "name": "python3"
  },
  "language_info": {
   "codemirror_mode": {
    "name": "ipython",
    "version": 3
   },
   "file_extension": ".py",
   "mimetype": "text/x-python",
   "name": "python",
   "nbconvert_exporter": "python",
   "pygments_lexer": "ipython3",
   "version": "3.9.7"
  },
  "toc-autonumbering": false,
  "toc-showcode": false,
  "toc-showmarkdowntxt": true,
  "toc-showtags": true,
  "vscode": {
   "interpreter": {
    "hash": "31f2aee4e71d21fbe5cf8b01ff0e069b9275f58929596ceb00d14d90e3e16cd6"
   }
  }
 },
 "nbformat": 4,
 "nbformat_minor": 5
}
