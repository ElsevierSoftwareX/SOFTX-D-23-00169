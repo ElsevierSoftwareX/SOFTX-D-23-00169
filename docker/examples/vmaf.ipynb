{
 "cells": [
  {
   "cell_type": "markdown",
   "id": "121298bf-c3f0-49ac-bfcf-38f2c313295f",
   "metadata": {
    "tags": []
   },
   "source": [
    "# VMAF - Video Multi-Method Assessment Fusion"
   ]
  },
  {
   "cell_type": "markdown",
   "id": "c87dbc57-9ab1-4fcc-841a-ca70ae459d87",
   "metadata": {
    "tags": []
   },
   "source": [
    "#### Source: https://github.com/Netflix/vmaf"
   ]
  },
  {
   "cell_type": "markdown",
   "id": "5b82b969-d3c6-446a-8ce3-4d23c87ddb58",
   "metadata": {
    "tags": []
   },
   "source": [
    "## Using VMAF with FFmpeg"
   ]
  },
  {
   "cell_type": "markdown",
   "id": "60de59a2-40f3-42a4-b30b-3377ae29c44e",
   "metadata": {},
   "source": [
    "libvmaf is integrated into FFmpeg, to create complex filters to calculate VMAF on videos with different settings (resolution, codec, fps, etc.). For best practices for calculating VMAF at the right resolution, see the VMAF technical blog [vmaf_resource](https://github.com/Netflix/vmaf_resource/tree/master/python/test/resource)."
   ]
  },
  {
   "cell_type": "markdown",
   "id": "332a5196-989c-4109-bcb9-51c84f23378d",
   "metadata": {
    "tags": []
   },
   "source": [
    "## Example 1:"
   ]
  },
  {
   "cell_type": "markdown",
   "id": "1c00777e-ab6a-4294-9ec5-178323080cb9",
   "metadata": {},
   "source": [
    "This is an example where the distorted video is upscaled to the resolution of the reference video (360p to 1080p). The 'bicubic' interpolation method is used, see more on [FFmpeg](https://www.ffmpeg.org/ffmpeg-scaler.html). "
   ]
  },
  {
   "cell_type": "code",
   "execution_count": null,
   "id": "4991f5cd-058a-4371-9c15-b522f8aebe36",
   "metadata": {
    "tags": []
   },
   "outputs": [],
   "source": [
    "! mkdir -p results/vmaf && \\\n",
    "ffmpeg -hide_banner \\\n",
    "    -r 25 -i videos/dist/vp9/bbb_640x360_CRF30.webm \\\n",
    "    -r 25 -i videos/ref/bbb_1920x1080.mp4 \\\n",
    "    -lavfi \"[0:v]scale=1920:1080:flags=bicubic,setpts=PTS-STARTPTS[distorted]; \\\n",
    "            [1:v]setpts=PTS-STARTPTS[reference]; \\\n",
    "            [distorted][reference]libvmaf=log_fmt=json:log_path=results/vmaf/bbb_vmaf_scaled.json:model='path=/vmaf/model/vmaf_float_v0.6.1.json'\" -f null -"
   ]
  },
  {
   "cell_type": "markdown",
   "id": "3d87b8bb-779b-466d-b8b3-ed686375ee48",
   "metadata": {
    "tags": []
   },
   "source": [
    "## Example 2:"
   ]
  },
  {
   "cell_type": "markdown",
   "id": "4119ddb5-e4c3-4297-9f43-81c1156788be",
   "metadata": {},
   "source": [
    "For UHD (4K) resolution videos, it is recommended to use the model available in the `/vmaf/model/vmaf_float_4k_v0.6.1.json`  directory. A basic instruction is added as an example. Replace the video names with the path where you have loaded your files."
   ]
  },
  {
   "cell_type": "raw",
   "id": "6b5e81d6-9b59-4f2e-9b8e-2e036fdf29dd",
   "metadata": {},
   "source": [
    "!ffmpeg -hide_banner -r 25 -i {ref_4k.mp4} -r 25 -i {dis_4k.mp4} \\\n",
    " -lavfi \"[0:v]setpts=PTS-STARTPTS[reference]; \\\n",
    "         [1:v]setpts=PTS-STARTPTS[distorted]; \\\n",
    "         [distorted][reference]libvmaf=model_path=/vmaf/model/vmaf_float_4k_v0.6.1.json\" -f null -"
   ]
  },
  {
   "cell_type": "markdown",
   "id": "7bc44cc7-c9dc-4349-86fa-d9b1b7bc84fe",
   "metadata": {
    "tags": []
   },
   "source": [
    "## Graphical representation."
   ]
  },
  {
   "cell_type": "markdown",
   "id": "b766405c-a7b9-4bad-8f84-0eb355395fbc",
   "metadata": {},
   "source": [
    "In this section, we plot the VMAF values obtained per frame of the result obtained in Example 1. The arithmetic mean of the obtained values is also shown. "
   ]
  },
  {
   "cell_type": "code",
   "execution_count": null,
   "id": "287d36a4-8c35-4298-89de-560c86c54bc3",
   "metadata": {},
   "outputs": [],
   "source": [
    "import pandas as pd\n",
    "import json\n",
    "import plotly.express as px\n",
    "\n",
    "path_file='results/vmaf/bbb_vmaf_scaled.json'\n",
    "\n",
    "with open(path_file) as f:\n",
    "  data = json.load(f)\n",
    "\n",
    "vmaf_frames=[]\n",
    "\n",
    "for frame in data['frames']:\n",
    "    vmaf_frames.append(frame['metrics']['vmaf'])\n",
    "    \n",
    "df=pd.DataFrame(vmaf_frames, columns=['VMAF'])\n",
    "\n",
    "fig = px.line(df,x=df.index, y='VMAF',\n",
    "              title='VMAF by frame',labels={\"index\": \"Frame\"}, template='simple_white', markers=True)\n",
    "\n",
    "fig.add_hline(y=df.VMAF.mean(), line_width=2, line_dash='dash')\n",
    "\n",
    "fig.update_layout(\n",
    "    title={\n",
    "        'y':0.9,\n",
    "        'x':0.5,\n",
    "        'xanchor': 'center'},\n",
    "    showlegend=True)\n",
    "\n",
    "fig.show()"
   ]
  },
  {
   "cell_type": "markdown",
   "id": "120643ec-77dd-42a1-9591-ccfd1377a6bb",
   "metadata": {
    "tags": []
   },
   "source": [
    "## Using VMAF with Python Library"
   ]
  },
  {
   "cell_type": "markdown",
   "id": "b176c51b-0d89-44ec-9d18-ef1f36d376de",
   "metadata": {},
   "source": [
    "Finally, the VMAF Python library offers full functionalities from running basic VMAF command lines, software testing, training and validating a new VMAF model on video datasets, data visualization tools, etc. It is the playground to experiment with VMAF."
   ]
  },
  {
   "cell_type": "code",
   "execution_count": null,
   "id": "ab105140-dd9b-4da6-aa09-628087460ac0",
   "metadata": {},
   "outputs": [],
   "source": [
    "# Convert videos to YUV\n",
    "!ffmpeg -hide_banner -y -i videos/ref/bbb_1920x1080.mp4 -c:v rawvideo -pixel_format yuv420p /tmp/ref.yuv && \\\n",
    "ffmpeg -hide_banner -y -i videos/dist/x264/bbb_1920x1080_CRF23.mp4 -c:v rawvideo -pixel_format yuv420p /tmp/dist.yuv\n",
    "\n",
    "# Compute VMAF\n",
    "!echo \"Computing VMAF...\" && \\\n",
    "cd /vmaf && \\\n",
    "PYTHONPATH=python /vmaf/python/vmaf/script/run_vmaf.py \\\n",
    "  yuv420p 1920 1080 \\\n",
    "  /tmp/ref.yuv \\\n",
    "  /tmp/dist.yuv --out-fmt json > /home/jovyan/work/examples/results/vmaf/bbb_vmaf_python.json \n",
    "\n",
    "#Show results\n",
    "!echo \"Results are in file results/vmaf/bbb_vmaf_python.json\""
   ]
  },
  {
   "cell_type": "markdown",
   "id": "58959ae4",
   "metadata": {},
   "source": []
  }
 ],
 "metadata": {
  "kernelspec": {
   "display_name": "Python 3 (ipykernel)",
   "language": "python",
   "name": "python3"
  },
  "language_info": {
   "codemirror_mode": {
    "name": "ipython",
    "version": 3
   },
   "file_extension": ".py",
   "mimetype": "text/x-python",
   "name": "python",
   "nbconvert_exporter": "python",
   "pygments_lexer": "ipython3",
   "version": "3.9.7"
  },
  "toc-autonumbering": false,
  "toc-showcode": false,
  "toc-showmarkdowntxt": true,
  "toc-showtags": true,
  "vscode": {
   "interpreter": {
    "hash": "31f2aee4e71d21fbe5cf8b01ff0e069b9275f58929596ceb00d14d90e3e16cd6"
   }
  }
 },
 "nbformat": 4,
 "nbformat_minor": 5
}
