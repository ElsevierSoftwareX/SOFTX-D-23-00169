{
 "cells": [
  {
   "cell_type": "markdown",
   "id": "121298bf-c3f0-49ac-bfcf-38f2c313295f",
   "metadata": {
    "tags": []
   },
   "source": [
    "# Additional metrics with VMAF"
   ]
  },
  {
   "cell_type": "markdown",
   "id": "c87dbc57-9ab1-4fcc-841a-ca70ae459d87",
   "metadata": {
    "tags": []
   },
   "source": [
    "#### Source: https://github.com/Netflix/vmaf"
   ]
  },
  {
   "cell_type": "markdown",
   "id": "91d40985-aa3b-4409-9753-69e2c7a80139",
   "metadata": {},
   "source": [
    "##### ADM, VIF, PSNR, SSIM and MS-SSIM"
   ]
  },
  {
   "cell_type": "markdown",
   "id": "e6ee52b3-4c4b-404c-873e-da57289f3f33",
   "metadata": {},
   "source": [
    "When using the filter `libvmaf` with ffmpeg to compute VMAF, other metrics such as MS-SSIM, SSIM, and PSNR can be computed."
   ]
  },
  {
   "cell_type": "markdown",
   "id": "ce080611",
   "metadata": {},
   "source": [
    "## Example:"
   ]
  },
  {
   "cell_type": "markdown",
   "id": "230c8621-be9e-459c-abfa-6ad932cdb34d",
   "metadata": {
    "jp-MarkdownHeadingCollapsed": true,
    "tags": []
   },
   "source": [
    "As the distorted video is in a different resolution, it is upscaled:"
   ]
  },
  {
   "cell_type": "code",
   "execution_count": null,
   "id": "7460b82c-a246-434d-b921-eda8d5e1ade2",
   "metadata": {},
   "outputs": [],
   "source": [
    "!ffmpeg -hide_banner -y -i videos/dist/x264/bbb_640x360_CRF23.mp4 -vf scale=1920x1080 -c:v libx264 -crf 0 /tmp/dist.mp4"
   ]
  },
  {
   "cell_type": "markdown",
   "id": "5baf2712-2d4b-47dc-b3c0-84140696b112",
   "metadata": {},
   "source": [
    "The following command computes the metrics using ffmpeg. In this example, the output is the file `results/libvmaf-metrics/bbb_metrics.json` that contains the metric values per frame. "
   ]
  },
  {
   "cell_type": "code",
   "execution_count": null,
   "id": "4b523e9e-cf4a-4253-90e9-6ea6ba06541e",
   "metadata": {},
   "outputs": [],
   "source": [
    "! mkdir -p results/libvmaf-metrics && \\\n",
    "ffmpeg -hide_banner \\\n",
    "        -r 25 -i videos/ref/bbb_1920x1080.mp4 \\\n",
    "        -r 25 -i /tmp/dist.mp4 \\\n",
    "        -lavfi \"[0:v]setpts=PTS-STARTPTS[reference]; \\\n",
    "         [1:v]setpts=PTS-STARTPTS[distorted]; \\\n",
    "         [distorted][reference]libvmaf=log_fmt=json:psnr=1:ssim=1:ms_ssim=1:log_fmt=json:\\\n",
    "         log_path=results/libvmaf-metrics/bbb_metrics.json:model='path=/vmaf/model/vmaf_float_v0.6.1.json'\" -f null -"
   ]
  },
  {
   "cell_type": "markdown",
   "id": "469e93ef-a553-4472-bc47-1ac8e83d8aa0",
   "metadata": {
    "tags": []
   },
   "source": [
    "#### Graphical representation."
   ]
  },
  {
   "cell_type": "markdown",
   "id": "688a02d1-e46e-49bd-adcd-06fe6f713a96",
   "metadata": {},
   "source": [
    "This section shows the graphical representation of the metrics obtained together with VMAF."
   ]
  },
  {
   "cell_type": "code",
   "execution_count": null,
   "id": "c91dd28d-4b3a-4ab2-865c-c0c852a9b331",
   "metadata": {
    "tags": []
   },
   "outputs": [],
   "source": [
    "import plotly.express as px\n",
    "import pandas as pd\n",
    "import json\n",
    "from jupyter_dash import JupyterDash\n",
    "from dash import dcc\n",
    "from dash import html\n",
    "from dash.dependencies import Input, Output\n",
    "\n",
    "# File with the metrics (adatp to your needs)\n",
    "path_file='results/libvmaf-metrics/bbb_metrics.json'\n",
    "\n",
    "with open(path_file) as f:\n",
    "  data = json.load(f)\n",
    "\n",
    "vmaf_frames=[]\n",
    "\n",
    "for frame in data['frames']:\n",
    "    vmaf_frames.append(frame['metrics'])\n",
    "    \n",
    "df=pd.DataFrame(vmaf_frames)\n",
    "df.columns = map(str.upper, df.columns)\n",
    "\n",
    "app = JupyterDash(__name__)\n",
    "app.layout = html.Div([\n",
    "    html.H1(\"Video quality metrics integrated into libvmaf\"),\n",
    "    dcc.Graph(id='graph'),\n",
    "    html.Label([\n",
    "        \"Select a metric:\",\n",
    "        dcc.Dropdown(\n",
    "            id='metric-dropdown', clearable=False,\n",
    "            value='ADM2', options=[\n",
    "                {'label': c, 'value': c}\n",
    "                for c in list(df.columns)\n",
    "            ])\n",
    "    ]),\n",
    "])\n",
    "\n",
    "# Define callback to update graph\n",
    "@app.callback(\n",
    "    Output('graph', 'figure'),\n",
    "    [Input(\"metric-dropdown\", \"value\")]\n",
    ")\n",
    "def update_figure(metric):\n",
    "    fig= px.line(df,x=df.index, y=metric,title=\"<b>\"+str(metric)+' by frame'+\"</b>\",\n",
    "    labels={\"index\": \"Frame\"}, template='simple_white',markers=True)\n",
    "    fig.update_layout(title={'y':0.9,'x':0.5,'xanchor': 'center'})\n",
    "    \n",
    "    return fig\n",
    "\n",
    "# Run app and display result inline in the notebook\n",
    "app.run_server(host=\"0.0.0.0\",mode='inline')"
   ]
  },
  {
   "cell_type": "code",
   "execution_count": null,
   "id": "8dc6cac2-3a84-4d02-8489-fe404a6598f4",
   "metadata": {},
   "outputs": [],
   "source": []
  }
 ],
 "metadata": {
  "kernelspec": {
   "display_name": "Python 3 (ipykernel)",
   "language": "python",
   "name": "python3"
  },
  "language_info": {
   "codemirror_mode": {
    "name": "ipython",
    "version": 3
   },
   "file_extension": ".py",
   "mimetype": "text/x-python",
   "name": "python",
   "nbconvert_exporter": "python",
   "pygments_lexer": "ipython3",
   "version": "3.9.7"
  },
  "toc-autonumbering": false,
  "toc-showcode": false,
  "toc-showmarkdowntxt": true,
  "toc-showtags": true,
  "vscode": {
   "interpreter": {
    "hash": "31f2aee4e71d21fbe5cf8b01ff0e069b9275f58929596ceb00d14d90e3e16cd6"
   }
  }
 },
 "nbformat": 4,
 "nbformat_minor": 5
}
