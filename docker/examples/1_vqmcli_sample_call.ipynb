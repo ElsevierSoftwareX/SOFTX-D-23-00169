{
 "cells": [
  {
   "cell_type": "code",
   "execution_count": null,
   "id": "235199ce-7b82-4406-af92-72e9ef6c12f9",
   "metadata": {},
   "outputs": [],
   "source": [
    "!vqmcli --help"
   ]
  },
  {
   "cell_type": "markdown",
   "id": "6baf75e3-0816-4e57-9633-886e38710a4d",
   "metadata": {},
   "source": [
    "# Sample study of the effect of the CRF"
   ]
  },
  {
   "cell_type": "code",
   "execution_count": null,
   "id": "bb05e62c-8620-482d-bf72-aab4902e40dc",
   "metadata": {},
   "outputs": [],
   "source": [
    "!echo \"Computing metrics...\" && \\\n",
    "vqmcli -r videos/ref/bbb_1920x1080.mp4 -d videos/dist/vp9/bbb_1920x1080_CRF30.webm -o /tmp/vmaf_CRF30 -z 1 --vmaf "
   ]
  },
  {
   "cell_type": "code",
   "execution_count": null,
   "id": "9601d2f5-6e94-4a9e-9505-4a4d01244799",
   "metadata": {},
   "outputs": [],
   "source": [
    "!echo \"Computing metrics...\" && \\\n",
    "vqmcli -r videos/ref/bbb_1920x1080.mp4 -d videos/dist/vp9/bbb_1920x1080_CRF50.webm -o /tmp/vmaf_CRF50 -z 1 --vmaf "
   ]
  },
  {
   "cell_type": "code",
   "execution_count": null,
   "id": "0285fa2c-9605-4046-8e52-a0f9e8ac6599",
   "metadata": {},
   "outputs": [],
   "source": [
    "!cat /tmp/vmaf_CRF30/vqmcli_results.csv && cat /tmp/vmaf_CRF50/vqmcli_results.csv "
   ]
  },
  {
   "cell_type": "markdown",
   "id": "487fadc0-f8c2-4951-8f76-05e5865fa999",
   "metadata": {},
   "source": [
    "# Sample analysis of the effect of resolution"
   ]
  },
  {
   "cell_type": "code",
   "execution_count": null,
   "id": "0a133de8-bc02-4a8e-af09-54f6b38f17b6",
   "metadata": {},
   "outputs": [],
   "source": [
    "!ffmpeg -hide_banner -y -i videos/dist/vp9/bbb_640x360_CRF30.webm -vf scale=1920x1080 -c:v libx264 -crf 0 /tmp/dist.mp4 && \\\n",
    "vqmcli -r videos/ref/bbb_1920x1080.mp4 -d /tmp/dist.mp4 -o /tmp/vmaf_360p -z 1 --vmaf "
   ]
  },
  {
   "cell_type": "code",
   "execution_count": null,
   "id": "0dada2e3-74e6-4e6d-a293-8326a1bed59d",
   "metadata": {},
   "outputs": [],
   "source": [
    "!echo \"Computing metrics...\" && \\\n",
    "vqmcli -r videos/ref/bbb_1920x1080.mp4 -d videos/dist/vp9/bbb_1920x1080_CRF30.webm -o /tmp/vmaf_1080p -z 1 --vmaf "
   ]
  },
  {
   "cell_type": "code",
   "execution_count": null,
   "id": "34cd8d53-1862-4e3e-94fb-bf3e0f7335b4",
   "metadata": {},
   "outputs": [],
   "source": [
    "!cat /tmp/vmaf_360p/vqmcli_results.csv && cat /tmp/vmaf_1080p/vqmcli_results.csv "
   ]
  },
  {
   "cell_type": "code",
   "execution_count": null,
   "id": "809b66e3-731b-4da3-9a02-eb74e00fd0a9",
   "metadata": {},
   "outputs": [],
   "source": []
  }
 ],
 "metadata": {
  "kernelspec": {
   "display_name": "Python 3 (ipykernel)",
   "language": "python",
   "name": "python3"
  },
  "language_info": {
   "codemirror_mode": {
    "name": "ipython",
    "version": 3
   },
   "file_extension": ".py",
   "mimetype": "text/x-python",
   "name": "python",
   "nbconvert_exporter": "python",
   "pygments_lexer": "ipython3",
   "version": "3.9.7"
  }
 },
 "nbformat": 4,
 "nbformat_minor": 5
}
