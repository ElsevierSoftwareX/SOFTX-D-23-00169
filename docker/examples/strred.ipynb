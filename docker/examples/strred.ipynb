{
 "cells": [
  {
   "cell_type": "markdown",
   "id": "0ad5184c-3882-4c5f-8b35-23c30ec48f51",
   "metadata": {
    "tags": []
   },
   "source": [
    "# ST-RRED - Computes Spatio-Temporal Reduced Reference Entropic Differencing"
   ]
  },
  {
   "cell_type": "markdown",
   "id": "772cddc9-88e6-42e4-a6f7-3bf37dfbb86f",
   "metadata": {},
   "source": [
    "#### Source: http://www.scikit-video.org/stable/measure.html"
   ]
  },
  {
   "cell_type": "markdown",
   "id": "203cc36b-1b80-49c2-b0f9-262c7ccad36b",
   "metadata": {},
   "source": [
    "Use `skvideo.measure.strred` to measure the perceptually quality difference between two videos, providing a slightly reduced reference score along with a critically reduced reference score (1 number comparison between videos) (sciki-video,2021). See [1](https://ieeexplore.ieee.org/document/6279462).\n",
    "\n",
    " - [1] R. Soundararajan and A. C. Bovik, \"Video Quality Assessment by Reduced Reference Spatio-temporal Entropic Differencing,\" IEEE Transactions on Circuits and Systems for Video Technology, April 2013."
   ]
  },
  {
   "cell_type": "markdown",
   "id": "1a4d3921-242f-42d0-bb50-da7b2d5734fe",
   "metadata": {
    "tags": []
   },
   "source": [
    "## Example:"
   ]
  },
  {
   "cell_type": "markdown",
   "id": "8f960406-e3a7-474e-887b-e4cfe21e105f",
   "metadata": {},
   "source": [
    "In this example, video inputs are compared over frame differences, with quality determined by differences in the entropy per subband."
   ]
  },
  {
   "cell_type": "markdown",
   "id": "6ec2d260-d329-43d7-b06f-87a329917609",
   "metadata": {},
   "source": [
    "The distorted video is upscaled to match the resolution of the reference video:"
   ]
  },
  {
   "cell_type": "code",
   "execution_count": null,
   "id": "2b005d48-f9e6-41ac-90ac-457a9e41e541",
   "metadata": {},
   "outputs": [],
   "source": [
    "!ffmpeg -hide_banner -y -i videos/dist/x264/bbb_640x360_CRF40.mp4 -vf scale=1920x1080 -c:v libx264 -crf 0 /tmp/dist.mp4"
   ]
  },
  {
   "cell_type": "markdown",
   "id": "a2029d83",
   "metadata": {},
   "source": [
    "<div class=\"alert alert-block alert-info\">\n",
    "    <b>Important:</b> To run this code, switch to the <b><i>Scikit-Video</i></b> kernel. Button in the upper right corner.</div>"
   ]
  },
  {
   "cell_type": "code",
   "execution_count": null,
   "id": "ff9e33b0-49f6-4bf5-8b7c-52f261bbd396",
   "metadata": {},
   "outputs": [],
   "source": [
    "import skvideo.io\n",
    "import skvideo.datasets\n",
    "import skvideo.utils\n",
    "import numpy as np\n",
    "import skvideo.measure\n",
    "import pandas as pd\n",
    "import os\n",
    "\n",
    "\n",
    "dir='results/strred'\n",
    "if not os.path.exists(dir):\n",
    "    os.makedirs(dir)\n",
    "\n",
    "# Distorted and reference videos (adapt to your needs)\n",
    "path_distorted='/tmp/dist.mp4'\n",
    "path_reference='videos/ref/bbb_1920x1080.mp4'\n",
    "\n",
    "v_distorted= skvideo.io.vread(path_distorted, outputdict={\"-pix_fmt\": \"gray\"})[:, :, :, 0]\n",
    "v_reference = skvideo.io.vread(path_reference, outputdict={\"-pix_fmt\": \"gray\"})[:, :, :, 0]\n",
    "      \n",
    "print 'Running, wait until score is obtained (this can take a while...)'\n",
    "    \n",
    "str_data=skvideo.measure.strred(v_reference, v_distorted)\n",
    "str_lis=[]\n",
    "\n",
    "for a in str_data[0]:\n",
    "    str_lis.append([a[0],a[1],a[2],a[3]])\n",
    "\n",
    "df=pd.DataFrame(str_lis, columns=['rreds','rredt','rredssn','rredtsn'])\n",
    "\n",
    "strred=df.rreds.mean()*df.rredt.mean()\n",
    "strredsn=df.rredssn.mean()*df.rredtsn.mean()\n",
    "\n",
    "\n",
    "print 'ST-RRED score: \\n Full-reference: {1}  \\n Reduced-reference: {0}'.format(strred, strredsn)\n",
    "\n",
    "#Save information in .json\n",
    "df.to_json('results/strred/strred.json', index=True)"
   ]
  },
  {
   "cell_type": "markdown",
   "id": "eff35feb-dfee-43ba-a5a7-14e4cd5e63b0",
   "metadata": {},
   "source": [
    "## Graphical representation."
   ]
  },
  {
   "cell_type": "markdown",
   "id": "b94234fd-441c-4e07-a68b-55fa27921bb1",
   "metadata": {},
   "source": [
    "<div class=\"alert alert-block alert-warning\">\n",
    "<b>Warning:</b> To show the graphical representation, switch to the <b><i>Python 3</i></b> kernel. Button in the upper right corner.\n",
    "</div>"
   ]
  },
  {
   "cell_type": "code",
   "execution_count": null,
   "id": "af659439-f619-4efb-886d-c8e038083f9a",
   "metadata": {},
   "outputs": [],
   "source": [
    "import pandas as pd \n",
    "import re\n",
    "import plotly.graph_objects as go\n",
    "import json\n",
    "\n",
    "# File with metric data (adapt to your needs)\n",
    "path_file='results/strred/strred.json'\n",
    "\n",
    "df=pd.read_json(path_file)\n",
    "df=df.sort_index()\n",
    "\n",
    "fig = go.Figure()\n",
    "\n",
    "fig.add_trace(go.Scatter(x=df.index, y=df.rreds*df.rredt,\n",
    "                    mode='lines+markers',\n",
    "                    name='STRRED',\n",
    "                         line=dict(color='#3E4680'))) \n",
    "\n",
    "fig.add_trace(go.Scatter(x=df.index, y=df.rredssn*df.rredtsn,\n",
    "                    mode='lines+markers',\n",
    "                    name='STRREDSN',\n",
    "                         line=dict(color='#C56E90'))) \n",
    "\n",
    "fig.update_layout(\n",
    "    title={'text':'STRRED by frame difference',\n",
    "        'y':0.9,\n",
    "        'x':0.5,\n",
    "        'xanchor': 'center'},\n",
    "    showlegend=True,\n",
    "    template='simple_white',\n",
    "    xaxis_title='Frame difference')\n",
    "\n",
    "fig.show()"
   ]
  },
  {
   "cell_type": "code",
   "execution_count": null,
   "id": "fb067474-e972-469b-9aea-586e14590183",
   "metadata": {},
   "outputs": [],
   "source": []
  }
 ],
 "metadata": {
  "interpreter": {
   "hash": "31f2aee4e71d21fbe5cf8b01ff0e069b9275f58929596ceb00d14d90e3e16cd6"
  },
  "kernelspec": {
   "display_name": "Scikit-Video",
   "language": "python",
   "name": "scikit-video"
  },
  "language_info": {
   "codemirror_mode": {
    "name": "ipython",
    "version": 2
   },
   "file_extension": ".py",
   "mimetype": "text/x-python",
   "name": "python",
   "nbconvert_exporter": "python",
   "pygments_lexer": "ipython2",
   "version": "2.7.18"
  }
 },
 "nbformat": 4,
 "nbformat_minor": 5
}
