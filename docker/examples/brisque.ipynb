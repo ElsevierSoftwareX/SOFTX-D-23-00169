{
 "cells": [
  {
   "cell_type": "markdown",
   "id": "0ad5184c-3882-4c5f-8b35-23c30ec48f51",
   "metadata": {},
   "source": [
    "# BRISQUE - Blind/Referenceless Image Spatial QUality Evaluator features"
   ]
  },
  {
   "cell_type": "markdown",
   "id": "772cddc9-88e6-42e4-a6f7-3bf37dfbb86f",
   "metadata": {},
   "source": [
    "#### Source: http://www.scikit-video.org/stable/measure.html"
   ]
  },
  {
   "cell_type": "markdown",
   "id": "203cc36b-1b80-49c2-b0f9-262c7ccad36b",
   "metadata": {},
   "source": [
    "Since this is a no-reference video quality metric, only the distorted video is needed. This function provides the raw features extracted per frame. See [1](https://ieeexplore.ieee.org/document/6272356), [2](https://live.ece.utexas.edu/publications/2011/am_asilomar_2011.pdf)\n",
    "\n",
    " - [1] A. Mittal, A. K. Moorthy and A. C. Bovik, \"No-Reference Image Quality Assessment in the Spatial Domain\" IEEE Transactions on Image Processing, 2012. \n",
    "\n",
    " - [2] A. Mittal, A. K. Moorthy and A. C. Bovik, \"Referenceless Image Spatial Quality Evaluation Engine,\" 45th Asilomar Conference on Signals, Systems and Computers , November 2011."
   ]
  },
  {
   "cell_type": "markdown",
   "id": "1a4d3921-242f-42d0-bb50-da7b2d5734fe",
   "metadata": {
    "tags": []
   },
   "source": [
    "### Example:"
   ]
  },
  {
   "cell_type": "markdown",
   "id": "8f960406-e3a7-474e-887b-e4cfe21e105f",
   "metadata": {},
   "source": [
    "Such as the example below provides the raw features extracted per frame."
   ]
  },
  {
   "cell_type": "markdown",
   "id": "91ebff29",
   "metadata": {},
   "source": [
    "<div class=\"alert alert-block alert-info\">\n",
    "    <b>Important:</b> To run this code, switch to the <b><i>Scikit-Video</i></b> kernel. Button in the upper right corner.</div>"
   ]
  },
  {
   "cell_type": "code",
   "execution_count": null,
   "id": "ff9e33b0-49f6-4bf5-8b7c-52f261bbd396",
   "metadata": {},
   "outputs": [],
   "source": [
    "import skvideo.io\n",
    "import skvideo.datasets\n",
    "import skvideo.utils\n",
    "import numpy as np\n",
    "import skvideo.measure\n",
    "import pandas as pd\n",
    "import os\n",
    "\n",
    "dir='results/brisque'\n",
    "if not os.path.exists(dir):\n",
    "    os.makedirs(dir)\n",
    "\n",
    "path_video=\"videos/dist/vp9/bbb_1920x1080_CRF30.webm\"\n",
    "\n",
    "vid = skvideo.io.vread(path_video, outputdict={\"-pix_fmt\": \"gray\"})[:, :, :, 0]\n",
    "vid = skvideo.utils.vshape(vid)\n",
    "\n",
    "print 'Running, wait until score is obtained'\n",
    "\n",
    "brisque_features=skvideo.measure.brisque_features(vid)\n",
    "\n",
    "df=pd.DataFrame(np.mean(brisque_features,axis=1), columns=['BRISQUE'])\n",
    "\n",
    "#Save information in .json\n",
    "df.to_json('results/brisque/brisque.json', index=True)\n",
    "\n",
    "# Mean value\n",
    "print 'BRISQUE mean value: {0}'.format(np.mean(brisque_features))"
   ]
  },
  {
   "cell_type": "code",
   "execution_count": null,
   "id": "3e567db1-e10a-4315-9ec6-7425772a8df7",
   "metadata": {},
   "outputs": [],
   "source": [
    "# Mean value per frame\n",
    "print 'BRISQUE mean features per frame: {0}'.format(np.mean(brisque_features,axis=1))"
   ]
  },
  {
   "cell_type": "markdown",
   "id": "b0e39bfe",
   "metadata": {},
   "source": [
    "## Graphical representation."
   ]
  },
  {
   "cell_type": "markdown",
   "id": "daef0ee1",
   "metadata": {},
   "source": [
    "<div class=\"alert alert-block alert-warning\">\n",
    "<b>Warning:</b> To show the graphical representation, switch to the <b><i>Python 3</i></b> kernel. Button in the upper right corner.\n",
    "</div>"
   ]
  },
  {
   "cell_type": "code",
   "execution_count": null,
   "id": "77bcdab1-188a-4fb7-b692-d82820a4d560",
   "metadata": {},
   "outputs": [],
   "source": [
    "import pandas as pd\n",
    "import re\n",
    "import plotly.graph_objects as go\n",
    "import json\n",
    "\n",
    "# File with nique metric (adapt to your needs)\n",
    "path_file='results/brisque/brisque.json'\n",
    "\n",
    "df=pd.read_json(path_file)\n",
    "df=df.sort_index()\n",
    "\n",
    "fig = go.Figure()\n",
    "\n",
    "fig.add_trace(go.Scatter(x=df.index, y=df.BRISQUE,\n",
    "                    mode='lines+markers',\n",
    "                    name='BRISQUE',\n",
    "                         line=dict(color='#3E4680')))\n",
    "\n",
    "fig.add_hline(y=df.BRISQUE.mean(), line_width=2, line_dash='dash') \n",
    "\n",
    "fig.update_layout(\n",
    "    title={'text':'BRISQUE by frame',\n",
    "        'y':0.9,\n",
    "        'x':0.5,\n",
    "        'xanchor': 'center'},\n",
    "    showlegend=True,\n",
    "    template='simple_white',\n",
    "    xaxis_title='Frame',\n",
    "    yaxis_title='BRISQUE')\n",
    "\n",
    "fig.show()"
   ]
  }
 ],
 "metadata": {
  "kernelspec": {
   "display_name": "Scikit-Video",
   "language": "python",
   "name": "scikit-video"
  },
  "language_info": {
   "codemirror_mode": {
    "name": "ipython",
    "version": 2
   },
   "file_extension": ".py",
   "mimetype": "text/x-python",
   "name": "python",
   "nbconvert_exporter": "python",
   "pygments_lexer": "ipython2",
   "version": "2.7.18"
  },
  "vscode": {
   "interpreter": {
    "hash": "31f2aee4e71d21fbe5cf8b01ff0e069b9275f58929596ceb00d14d90e3e16cd6"
   }
  }
 },
 "nbformat": 4,
 "nbformat_minor": 5
}
