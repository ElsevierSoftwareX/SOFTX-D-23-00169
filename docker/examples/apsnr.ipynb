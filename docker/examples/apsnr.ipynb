{
 "cells": [
  {
   "cell_type": "markdown",
   "id": "0ad5184c-3882-4c5f-8b35-23c30ec48f51",
   "metadata": {
    "tags": []
   },
   "source": [
    "# APSNR - Average peak signal to noise ratio (APSNR)"
   ]
  },
  {
   "cell_type": "markdown",
   "id": "772cddc9-88e6-42e4-a6f7-3bf37dfbb86f",
   "metadata": {},
   "source": [
    "#### Source: https://github.com/dwbuiten/av-metrics"
   ]
  },
  {
   "cell_type": "markdown",
   "id": "1a4d3921-242f-42d0-bb50-da7b2d5734fe",
   "metadata": {},
   "source": [
    "### Example:"
   ]
  },
  {
   "cell_type": "markdown",
   "id": "4c9813a4",
   "metadata": {},
   "source": [
    "The implementation of APSNR included requires the videos in Y4M format. \n",
    "Therefore, ffmpeg is used to transform videos (reference and distorted) to Y4M format. As the distorted video is in a lower resolution it is also upscaled (to match the resolution of the reference video)."
   ]
  },
  {
   "cell_type": "code",
   "execution_count": null,
   "id": "f55bddfa-2cb4-462b-a6d4-92c0dd2c82b8",
   "metadata": {},
   "outputs": [],
   "source": [
    "!ffmpeg -hide_banner -y -i videos/ref/bbb_1920x1080.mp4 /tmp/ref.y4m \n",
    "!ffmpeg -hide_banner -y -i videos/dist/vp9/bbb_640x360_CRF50.webm -vf scale=1920x1080 /tmp/dist.y4m"
   ]
  },
  {
   "cell_type": "markdown",
   "id": "37f431d3",
   "metadata": {},
   "source": [
    "Then these videos are passed as arguments to `av-metrics-tool` to generate the file `results/apsnr/apsnr.json`:"
   ]
  },
  {
   "cell_type": "code",
   "execution_count": null,
   "id": "2c9e054a-92d4-409c-aaf1-25bf71397134",
   "metadata": {},
   "outputs": [],
   "source": [
    "! \\\n",
    "mkdir -p results/apsnr && \\\n",
    "path_distorted=\"/tmp/ref.y4m\" && \\\n",
    "path_reference=\"/tmp/dist.y4m\" && \\\n",
    "av-metrics-tool --metric apsnr --export-json results/apsnr/apsnr.json  $path_reference $path_distorted"
   ]
  },
  {
   "cell_type": "code",
   "execution_count": null,
   "id": "ee1aa46d-1e29-4033-835c-997faf31516b",
   "metadata": {},
   "outputs": [],
   "source": []
  }
 ],
 "metadata": {
  "kernelspec": {
   "display_name": "Python 3 (ipykernel)",
   "language": "python",
   "name": "python3"
  },
  "language_info": {
   "codemirror_mode": {
    "name": "ipython",
    "version": 3
   },
   "file_extension": ".py",
   "mimetype": "text/x-python",
   "name": "python",
   "nbconvert_exporter": "python",
   "pygments_lexer": "ipython3",
   "version": "3.9.7"
  },
  "vscode": {
   "interpreter": {
    "hash": "31f2aee4e71d21fbe5cf8b01ff0e069b9275f58929596ceb00d14d90e3e16cd6"
   }
  }
 },
 "nbformat": 4,
 "nbformat_minor": 5
}
