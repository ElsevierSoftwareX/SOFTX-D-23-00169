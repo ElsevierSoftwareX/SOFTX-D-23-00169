{
 "cells": [
  {
   "cell_type": "markdown",
   "id": "0ad5184c-3882-4c5f-8b35-23c30ec48f51",
   "metadata": {
    "tags": []
   },
   "source": [
    "# VQM - Video Quality Model"
   ]
  },
  {
   "cell_type": "markdown",
   "id": "772cddc9-88e6-42e4-a6f7-3bf37dfbb86f",
   "metadata": {},
   "source": [
    "#### Source: https://github.com/grishnagkh/vqmetric"
   ]
  },
  {
   "cell_type": "markdown",
   "id": "1a4d3921-242f-42d0-bb50-da7b2d5734fe",
   "metadata": {},
   "source": [
    "## Example:"
   ]
  },
  {
   "cell_type": "code",
   "execution_count": null,
   "id": "32466d9c-02d5-4edf-9d0a-026daa677c22",
   "metadata": {},
   "outputs": [],
   "source": [
    "!ffmpeg -hide_banner -y -r 25 -i videos/dist/x264/bbb_640x360_CRF40.mp4 -vf scale=1920x1080 -c:v libx264 -crf 0 /tmp/dist.mp4"
   ]
  },
  {
   "cell_type": "code",
   "execution_count": null,
   "id": "2c9e054a-92d4-409c-aaf1-25bf71397134",
   "metadata": {},
   "outputs": [],
   "source": [
    "! \\\n",
    "mkdir -p results/vqm && \\\n",
    "path_output=\"results/vqm/bbb_vqm.csv\" && \\\n",
    "path_distorted=\"/tmp/dist.mp4\" && \\\n",
    "path_reference=\"videos/ref/bbb_1920x1080.mp4\" && \\\n",
    "\\\n",
    "vqtool -p $path_distorted -P mp4 -r $path_reference -R mp4 --vqm --verbose 1 -t 1 -l 0 results/vqm/bbb && \\\n",
    "\\\n",
    "sed -i '1isec,VQM' results/vqm/bbb_vqm_1s.csv && \\\n",
    "sed 's/;/,/g' results/vqm/bbb_vqm_1s.csv > $path_output && \\\n",
    "rm results/vqm/bbb_vqm_1s.csv results/vqm/bbb_vqm.log"
   ]
  },
  {
   "cell_type": "markdown",
   "id": "fb1d4c63",
   "metadata": {},
   "source": [
    "The above command generates the file `results/vqm/bbb_vqm.csv` with a metric value per second"
   ]
  },
  {
   "cell_type": "markdown",
   "id": "8a0f1a96-ab40-4d6e-baf8-344a28bcef20",
   "metadata": {},
   "source": [
    "## Graphical representation."
   ]
  },
  {
   "cell_type": "code",
   "execution_count": null,
   "id": "05c7d9de-7aac-4dc4-ad87-f9007a73b67f",
   "metadata": {},
   "outputs": [],
   "source": [
    "import pandas as pd \n",
    "import re\n",
    "import plotly.graph_objects as go\n",
    "import json\n",
    "\n",
    "# Path to generated metric (adapt to your needs)\n",
    "path_file='results/vqm/bbb_vqm.csv'\n",
    "\n",
    "df=pd.read_csv(path_file)\n",
    "df=df.sort_index()\n",
    "\n",
    "fig = go.Figure()\n",
    "\n",
    "fig.add_trace(go.Scatter(x=df.index+1, y=df.VQM,\n",
    "                    mode='lines+markers',\n",
    "                    name='VQM',\n",
    "                         line=dict(color='#3E4680'))) \n",
    "\n",
    "fig.add_hline(y=df.VQM.mean(), line_width=2, line_dash='dash')\n",
    "\n",
    "fig.update_layout(\n",
    "    title={'text':'VQM by second',\n",
    "        'y':0.9,\n",
    "        'x':0.5,\n",
    "        'xanchor': 'center'},\n",
    "    showlegend=True,\n",
    "    template='simple_white',\n",
    "    xaxis_title='Second', \n",
    "    yaxis_title='VQM')\n",
    "\n",
    "fig.show()"
   ]
  },
  {
   "cell_type": "code",
   "execution_count": null,
   "id": "b221f9aa-67e5-4d19-a190-cad07500349b",
   "metadata": {},
   "outputs": [],
   "source": []
  }
 ],
 "metadata": {
  "kernelspec": {
   "display_name": "Python 3 (ipykernel)",
   "language": "python",
   "name": "python3"
  },
  "language_info": {
   "codemirror_mode": {
    "name": "ipython",
    "version": 3
   },
   "file_extension": ".py",
   "mimetype": "text/x-python",
   "name": "python",
   "nbconvert_exporter": "python",
   "pygments_lexer": "ipython3",
   "version": "3.9.7"
  }
 },
 "nbformat": 4,
 "nbformat_minor": 5
}
